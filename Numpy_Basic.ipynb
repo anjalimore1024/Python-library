{
 "cells": [
  {
   "cell_type": "markdown",
   "id": "52c69511",
   "metadata": {},
   "source": [
    "# NumPy Introduction"
   ]
  },
  {
   "cell_type": "markdown",
   "id": "e1067d44",
   "metadata": {},
   "source": [
    "* NumPy is a Python library.\n",
    "* It is used for working with arrays.\n",
    "* It is usde to mathematical equation.\n",
    "* NumPy stands For Numerical Python"
   ]
  },
  {
   "cell_type": "markdown",
   "id": "00f5e92e",
   "metadata": {},
   "source": [
    "# Installing NumPy"
   ]
  },
  {
   "cell_type": "code",
   "execution_count": 2,
   "id": "f65270e0",
   "metadata": {},
   "outputs": [
    {
     "name": "stdout",
     "output_type": "stream",
     "text": [
      "Requirement already satisfied: numpy in c:\\users\\aniket\\anaconda3\\lib\\site-packages (1.21.5)\n"
     ]
    }
   ],
   "source": [
    "!pip install numpy"
   ]
  },
  {
   "cell_type": "code",
   "execution_count": 3,
   "id": "09fc0cfe",
   "metadata": {},
   "outputs": [],
   "source": [
    "import numpy as np"
   ]
  },
  {
   "cell_type": "markdown",
   "id": "58a73e74",
   "metadata": {},
   "source": [
    "* Creating array"
   ]
  },
  {
   "cell_type": "markdown",
   "id": "5507b8ba",
   "metadata": {},
   "source": [
    "* The array object in NumPy is called ndarray.\n",
    "* We can create a NumPy ndarray object by using the array() function."
   ]
  },
  {
   "cell_type": "markdown",
   "id": "b5140489",
   "metadata": {},
   "source": [
    "* To create an ndarray"
   ]
  },
  {
   "cell_type": "code",
   "execution_count": 4,
   "id": "5597ac61",
   "metadata": {},
   "outputs": [
    {
     "name": "stdout",
     "output_type": "stream",
     "text": [
      "[1 2 3 4 5 6]\n"
     ]
    }
   ],
   "source": [
    "# a is python list\n",
    "a = [1,2,3,4,5,6] \n",
    "\n",
    "# These is use pre an array\n",
    "a1 = np.array(a)\n",
    "\n",
    "print(a1)"
   ]
  },
  {
   "cell_type": "markdown",
   "id": "5bfdabe0",
   "metadata": {},
   "source": [
    "* Type()"
   ]
  },
  {
   "cell_type": "code",
   "execution_count": 5,
   "id": "67c3e5f2",
   "metadata": {},
   "outputs": [
    {
     "data": {
      "text/plain": [
       "numpy.ndarray"
      ]
     },
     "execution_count": 5,
     "metadata": {},
     "output_type": "execute_result"
    }
   ],
   "source": [
    "# Creating array object\n",
    "a = np.array( [[ 1, 2, 3],\n",
    "                 [ 4, 2, 5]])\n",
    "type(a)"
   ]
  },
  {
   "cell_type": "markdown",
   "id": "a1d38c8e",
   "metadata": {},
   "source": [
    "* Dimension of Array"
   ]
  },
  {
   "cell_type": "code",
   "execution_count": 6,
   "id": "fb66af36",
   "metadata": {},
   "outputs": [
    {
     "name": "stdout",
     "output_type": "stream",
     "text": [
      "No. of dimensions of array:  1\n",
      "No. of dimensions of array1:  2\n"
     ]
    }
   ],
   "source": [
    "# Creating array object\n",
    "a = np.array([ 1, 2, 3])\n",
    "\n",
    "a1 = np.array( [[ 1, 2, 3], \n",
    "                 [ 4, 2, 5]] )\n",
    "\n",
    "print(\"No. of dimensions of array: \", a.ndim)\n",
    "print(\"No. of dimensions of array1: \", a1.ndim)"
   ]
  },
  {
   "cell_type": "markdown",
   "id": "a8a64a28",
   "metadata": {},
   "source": [
    "* shape of array"
   ]
  },
  {
   "cell_type": "code",
   "execution_count": 7,
   "id": "286654c1",
   "metadata": {},
   "outputs": [
    {
     "name": "stdout",
     "output_type": "stream",
     "text": [
      "Shape of array:  (3,)\n",
      "Shape of array1:  (2, 3)\n"
     ]
    }
   ],
   "source": [
    "# Creating array object\n",
    "a = np.array([ 1, 2, 3])\n",
    "\n",
    "a1 = np.array( [[ 1, 2, 3], \n",
    "                 [ 4, 2, 5]] )\n",
    "\n",
    "print(\"Shape of array: \", a.shape)\n",
    "print(\"Shape of array1: \", a1.shape)"
   ]
  },
  {
   "cell_type": "markdown",
   "id": "88cfd1d3",
   "metadata": {},
   "source": [
    "* Type of element"
   ]
  },
  {
   "cell_type": "code",
   "execution_count": 8,
   "id": "06b9f0de",
   "metadata": {},
   "outputs": [
    {
     "name": "stdout",
     "output_type": "stream",
     "text": [
      "element of type: int32\n"
     ]
    }
   ],
   "source": [
    "a = np.array([[1,2,3],\n",
    "            [4,5,6]])\n",
    "\n",
    "print(\"element of type:\", a.dtype)"
   ]
  },
  {
   "cell_type": "markdown",
   "id": "35735d36",
   "metadata": {},
   "source": [
    "* Numpy.empty"
   ]
  },
  {
   "cell_type": "code",
   "execution_count": 9,
   "id": "b6c589be",
   "metadata": {},
   "outputs": [
    {
     "data": {
      "text/plain": [
       "array([[         0,          0],\n",
       "       [-987701168,      32766],\n",
       "       [       260,          0],\n",
       "       [        -1,         -1]])"
      ]
     },
     "execution_count": 9,
     "metadata": {},
     "output_type": "execute_result"
    }
   ],
   "source": [
    "x = np.empty([4, 2], dtype = int) \n",
    "x"
   ]
  },
  {
   "cell_type": "markdown",
   "id": "25fb0000",
   "metadata": {},
   "source": [
    "* Numpy.ones"
   ]
  },
  {
   "cell_type": "code",
   "execution_count": 10,
   "id": "fa7bb6c3",
   "metadata": {},
   "outputs": [
    {
     "data": {
      "text/plain": [
       "array([1., 1., 1., 1., 1.])"
      ]
     },
     "execution_count": 10,
     "metadata": {},
     "output_type": "execute_result"
    }
   ],
   "source": [
    "# array of five ones. Default dtype is float \n",
    "a = np.ones(5) \n",
    "a"
   ]
  },
  {
   "cell_type": "code",
   "execution_count": 11,
   "id": "f79d677d",
   "metadata": {},
   "outputs": [
    {
     "data": {
      "text/plain": [
       "array([[1, 1, 1],\n",
       "       [1, 1, 1],\n",
       "       [1, 1, 1]])"
      ]
     },
     "execution_count": 11,
     "metadata": {},
     "output_type": "execute_result"
    }
   ],
   "source": [
    "# array of 3 X 3 of datatype integer\n",
    "a1 = np.ones([3,3], dtype = int) \n",
    "a1"
   ]
  },
  {
   "cell_type": "markdown",
   "id": "0b4c2c59",
   "metadata": {},
   "source": [
    "* Numpy.zeros"
   ]
  },
  {
   "cell_type": "code",
   "execution_count": 12,
   "id": "f0a3deec",
   "metadata": {},
   "outputs": [
    {
     "data": {
      "text/plain": [
       "array([0., 0., 0., 0., 0., 0.])"
      ]
     },
     "execution_count": 12,
     "metadata": {},
     "output_type": "execute_result"
    }
   ],
   "source": [
    "# singe dimension array of five zeros. Default dtype is float \n",
    "a = np.zeros((6))\n",
    "a"
   ]
  },
  {
   "cell_type": "code",
   "execution_count": 13,
   "id": "c533e752",
   "metadata": {},
   "outputs": [
    {
     "data": {
      "text/plain": [
       "array([[0, 0, 0, 0, 0],\n",
       "       [0, 0, 0, 0, 0]])"
      ]
     },
     "execution_count": 13,
     "metadata": {},
     "output_type": "execute_result"
    }
   ],
   "source": [
    "a = np.zeros((2,5) ,dtype = int)\n",
    "a"
   ]
  },
  {
   "cell_type": "markdown",
   "id": "ebda9c58",
   "metadata": {},
   "source": [
    "Numpy.arange"
   ]
  },
  {
   "cell_type": "code",
   "execution_count": 14,
   "id": "da8f4cb9",
   "metadata": {},
   "outputs": [
    {
     "data": {
      "text/plain": [
       "array([1, 2, 3, 4, 5, 6, 7, 8, 9])"
      ]
     },
     "execution_count": 14,
     "metadata": {},
     "output_type": "execute_result"
    }
   ],
   "source": [
    "# To create a single dimension array\n",
    "np.arange(1, 10)"
   ]
  },
  {
   "cell_type": "markdown",
   "id": "94a7e078",
   "metadata": {},
   "source": [
    "* Numpy.linspace\n",
    "* numpy.linspace(start, stop, endpoint, dtype)"
   ]
  },
  {
   "cell_type": "code",
   "execution_count": 15,
   "id": "85045dc3",
   "metadata": {},
   "outputs": [
    {
     "data": {
      "text/plain": [
       "array([ 1.        ,  2.35714286,  3.71428571,  5.07142857,  6.42857143,\n",
       "        7.78571429,  9.14285714, 10.5       , 11.85714286, 13.21428571,\n",
       "       14.57142857, 15.92857143, 17.28571429, 18.64285714, 20.        ])"
      ]
     },
     "execution_count": 15,
     "metadata": {},
     "output_type": "execute_result"
    }
   ],
   "source": [
    "# prints 15 values which are evenly spaced over the given interval 1-20\n",
    "np.linspace(1,20,15)"
   ]
  },
  {
   "cell_type": "markdown",
   "id": "c074c08b",
   "metadata": {},
   "source": [
    "* Reshaping\n",
    "* Reshaping means changing the shape of an arrays\n",
    "* The shape of an array is the number of elements in each dimension."
   ]
  },
  {
   "cell_type": "code",
   "execution_count": 16,
   "id": "2ad1b130",
   "metadata": {},
   "outputs": [
    {
     "name": "stdout",
     "output_type": "stream",
     "text": [
      "2 dimension array:  [[ 1  2  3  4  5  6  7  8  9 10]]\n"
     ]
    }
   ],
   "source": [
    "arr = np.array([1, 2, 3, 4, 5, 6, 7, 8, 9, 10])\n",
    "newarr = arr.reshape(1, 10)\n",
    "print(\"2 dimension array: \" ,newarr)"
   ]
  },
  {
   "cell_type": "code",
   "execution_count": 17,
   "id": "6e50a8af",
   "metadata": {},
   "outputs": [
    {
     "name": "stdout",
     "output_type": "stream",
     "text": [
      "3 dimension array:  [[[ 1  2]\n",
      "  [ 3  4]\n",
      "  [ 5  6]]\n",
      "\n",
      " [[ 7  8]\n",
      "  [ 9 10]\n",
      "  [11 12]]]\n"
     ]
    }
   ],
   "source": [
    "arr = np.array([1, 2, 3, 4, 5, 6, 7, 8, 9, 10, 11, 12])\n",
    "newarr = arr.reshape( 2, 3, 2)\n",
    " \n",
    "print(\"3 dimension array: \" ,newarr)"
   ]
  },
  {
   "cell_type": "code",
   "execution_count": 18,
   "id": "15d9c272",
   "metadata": {},
   "outputs": [
    {
     "data": {
      "text/plain": [
       "array([[ 1,  2,  3,  4,  5,  6,  7,  8,  9, 10, 11, 12]])"
      ]
     },
     "execution_count": 18,
     "metadata": {},
     "output_type": "execute_result"
    }
   ],
   "source": [
    "# To reshape an array to one lower dimension\n",
    "arr.reshape(1,-1)"
   ]
  },
  {
   "cell_type": "markdown",
   "id": "598c7213",
   "metadata": {},
   "source": [
    "* Arithmetic Operation"
   ]
  },
  {
   "cell_type": "code",
   "execution_count": 19,
   "id": "7de20db0",
   "metadata": {},
   "outputs": [
    {
     "name": "stdout",
     "output_type": "stream",
     "text": [
      "Our first array is :  [[0 0 0 0 0]\n",
      " [0 0 0 0 0]]\n",
      "Our second array is :  [[1 2 3]\n",
      " [4 5 6]\n",
      " [7 8 9]]\n",
      "Addition of two array is :  [[ 2  4  6]\n",
      " [ 8 10 12]\n",
      " [14 16 18]]\n",
      "Subtraction  of two array is :  [[0 0 0]\n",
      " [0 0 0]\n",
      " [0 0 0]]\n",
      "Multiplication  of two array is :  [[ 1  4  9]\n",
      " [16 25 36]\n",
      " [49 64 81]]\n",
      "Division of two array is :  [[1. 1. 1.]\n",
      " [1. 1. 1.]\n",
      " [1. 1. 1.]]\n",
      "Transpose of the array is :  [[1 4 7]\n",
      " [2 5 8]\n",
      " [3 6 9]]\n"
     ]
    }
   ],
   "source": [
    "#Creating two arrays to perform operation in it.\n",
    "import numpy as np\n",
    "\n",
    "a1 = np.arange(1, 10).reshape(3,3)\n",
    "\n",
    "print(\"Our first array is : \", a)\n",
    "\n",
    "#second array\n",
    "a2 = np.arange(1, 10).reshape(3,3)\n",
    "\n",
    "print(\"Our second array is : \", a1)\n",
    "\n",
    "#addition of two array using add() method\n",
    "\n",
    "add = np.add(a1, a2)\n",
    "print(\"Addition of two array is : \", add)\n",
    "\n",
    "#subtraction of two array using substract() method\n",
    "\n",
    "subtraction  = np.subtract(a1, a2)\n",
    "print(\"Subtraction  of two array is : \", subtraction )\n",
    "\n",
    "#multiplication of two array using multiply() method\n",
    "\n",
    "multiply = np.multiply(a1, a2)\n",
    "print(\"Multiplication  of two array is : \", multiply)\n",
    "\n",
    "#division of two array using divide() method\n",
    "\n",
    "division  = np.divide(a1, a2)\n",
    "print(\"Division of two array is : \", division )\n",
    "\n",
    "t = a1.transpose()\n",
    "print(\"Transpose of the array is : \", t)"
   ]
  },
  {
   "cell_type": "markdown",
   "id": "cab44ca7",
   "metadata": {},
   "source": [
    "* Min , Max "
   ]
  },
  {
   "cell_type": "code",
   "execution_count": 20,
   "id": "7f902400",
   "metadata": {},
   "outputs": [
    {
     "name": "stdout",
     "output_type": "stream",
     "text": [
      "The array is:  [[1 2 3]\n",
      " [4 5 6]\n",
      " [7 8 9]]\n",
      "Row wise min value :  [1 2 3]\n",
      "column wise max value:  [3 6 9]\n",
      "sum of all array : 45\n"
     ]
    }
   ],
   "source": [
    "import numpy as np\n",
    "arr = np.array([[1, 2, 3], [4, 5, 6],[7, 8, 9]])\n",
    "print(\"The array is: \", arr)\n",
    "\n",
    "# To check row wise minimum values \n",
    "Min = arr.min(axis = 0)\n",
    "print(\"Row wise min value : \", Min)\n",
    "\n",
    "# To check column wise maximum values \n",
    "Max = arr.max(axis = 1)\n",
    "print(\"column wise max value: \", Max)\n",
    "\n",
    "# To check sum\n",
    "Sum = np.sum(arr)\n",
    "print(\"sum of all array :\", Sum)"
   ]
  },
  {
   "cell_type": "markdown",
   "id": "24d2e8b1",
   "metadata": {},
   "source": [
    "* Statistical Function"
   ]
  },
  {
   "cell_type": "code",
   "execution_count": 21,
   "id": "1ef580cf",
   "metadata": {},
   "outputs": [
    {
     "name": "stdout",
     "output_type": "stream",
     "text": [
      "array : [ 1  2  3  4  5  6  7  8  9 10]\n",
      "mean:  5.5\n",
      "median:  5.0\n",
      "std:  2.581988897471611\n",
      "var :  6.666666666666667\n",
      "sqrt :  [[1.         1.41421356 1.73205081]\n",
      " [2.         2.23606798 2.44948974]\n",
      " [2.64575131 2.82842712 3.        ]]\n"
     ]
    }
   ],
   "source": [
    "import numpy as np\n",
    "a = np.array([1,2,3,4,5,6,7,8,9,10])\n",
    "print(\"array :\", a)\n",
    "\n",
    "Mean = np.mean(a)\n",
    "print(\"mean: \", Mean)\n",
    "\n",
    "Median = np.median(a1)\n",
    "print(\"median: \", Median)\n",
    "\n",
    "# To check standred deviation\n",
    "STD = np.std(a1)\n",
    "print(\"std: \", STD)\n",
    " \n",
    "# To check varience\n",
    "Varience= np.var(a1)  \n",
    "print(\"var : \", Varience)\n",
    "\n",
    "# To check square root of an array\n",
    "Sqrt = np.sqrt(a1)\n",
    "print(\"sqrt : \", Sqrt)"
   ]
  },
  {
   "cell_type": "markdown",
   "id": "8b81113d",
   "metadata": {},
   "source": [
    "* concatenate\n",
    "* Join two different arrays or more than two arrays into a single arrays"
   ]
  },
  {
   "cell_type": "code",
   "execution_count": 31,
   "id": "8a4d1dc7",
   "metadata": {},
   "outputs": [
    {
     "name": "stdout",
     "output_type": "stream",
     "text": [
      "first array :  [[ 1  2  3  4]\n",
      " [ 5  6  7  8]\n",
      " [ 9 10 11 12]\n",
      " [13 14 15 16]]\n",
      "second array :  [[ 1  2  3  4]\n",
      " [ 5  6  7  8]\n",
      " [ 9 10 11 12]\n",
      " [13 14 15 16]]\n",
      "Row wise join array :  [[ 1  2  3  4]\n",
      " [ 5  6  7  8]\n",
      " [ 9 10 11 12]\n",
      " [13 14 15 16]\n",
      " [ 1  2  3  4]\n",
      " [ 5  6  7  8]\n",
      " [ 9 10 11 12]\n",
      " [13 14 15 16]]\n",
      "column wise join array :  [[ 1  2  3  4  1  2  3  4]\n",
      " [ 5  6  7  8  5  6  7  8]\n",
      " [ 9 10 11 12  9 10 11 12]\n",
      " [13 14 15 16 13 14 15 16]]\n"
     ]
    }
   ],
   "source": [
    "a1 = np.arange(1,17).reshape(4,4)\n",
    "print(\"first array : \", a1)\n",
    "\n",
    "a2 = np.arange(1,17).reshape(4,4)\n",
    "print(\"second array : \", a2)\n",
    "\n",
    "# Join two array\n",
    "arr = np.concatenate((a1, a2))\n",
    "print(\"Row wise join array : \", arr)\n",
    "\n",
    "arr1 = np.concatenate((a1,a2),axis =1)\n",
    "print(\"column wise join array : \" , arr1)"
   ]
  },
  {
   "cell_type": "markdown",
   "id": "b1681fef",
   "metadata": {},
   "source": [
    "* hstack\n",
    "* This is a add to horizontal same as concatenate function"
   ]
  },
  {
   "cell_type": "code",
   "execution_count": 34,
   "id": "a8cf4777",
   "metadata": {},
   "outputs": [
    {
     "name": "stdout",
     "output_type": "stream",
     "text": [
      "first array :  [1 2 3]\n",
      "second array :  [4 5 6]\n",
      "horizontal wise:  [1 2 3 4 5 6]\n"
     ]
    }
   ],
   "source": [
    "a1 = np.array([1, 2, 3])\n",
    "print(\"first array : \", a1)\n",
    "\n",
    "a2 = np.array([4, 5, 6])\n",
    "print(\"second array : \", a2)\n",
    "\n",
    "arr = np.hstack((a1,a2))\n",
    "print(\"horizontal wise: \" , arr)"
   ]
  },
  {
   "cell_type": "markdown",
   "id": "d1143bc7",
   "metadata": {},
   "source": [
    "* vstack\n",
    "* This is a add to vertically same as concatenate function"
   ]
  },
  {
   "cell_type": "code",
   "execution_count": 35,
   "id": "d6997d3b",
   "metadata": {},
   "outputs": [
    {
     "data": {
      "text/plain": [
       "array([[1, 2, 3],\n",
       "       [4, 5, 6]])"
      ]
     },
     "execution_count": 35,
     "metadata": {},
     "output_type": "execute_result"
    }
   ],
   "source": [
    "np.vstack((a1,a2))"
   ]
  },
  {
   "cell_type": "markdown",
   "id": "d7856c07",
   "metadata": {},
   "source": [
    "* split\n",
    "* One array breaks to multiple arrays"
   ]
  },
  {
   "cell_type": "code",
   "execution_count": 38,
   "id": "64308903",
   "metadata": {},
   "outputs": [
    {
     "name": "stdout",
     "output_type": "stream",
     "text": [
      "first array :  [1 2 3 4 5 6 7 8]\n",
      "split :  [array([1, 2, 3, 4]), array([5, 6, 7, 8])]\n"
     ]
    }
   ],
   "source": [
    "a1 = np.array([1, 2, 3, 4, 5, 6, 7, 8])\n",
    "print(\"first array : \", a1)\n",
    "\n",
    "arr  = np.split(a1,2)\n",
    "print(\"split : \", arr)"
   ]
  },
  {
   "cell_type": "markdown",
   "id": "f82353ef",
   "metadata": {},
   "source": [
    "* Numpy Random\n",
    "\n",
    "1) random()\n",
    "2) randint()\n",
    "4) choice()"
   ]
  },
  {
   "cell_type": "markdown",
   "id": "f3a4c463",
   "metadata": {},
   "source": [
    "* random()\n",
    "* To get random values"
   ]
  },
  {
   "cell_type": "code",
   "execution_count": 39,
   "id": "c2f3e77d",
   "metadata": {},
   "outputs": [
    {
     "data": {
      "text/plain": [
       "array([0.376744  , 0.07809298, 0.12741182, 0.43519263, 0.65359807,\n",
       "       0.89230108])"
      ]
     },
     "execution_count": 39,
     "metadata": {},
     "output_type": "execute_result"
    }
   ],
   "source": [
    "np.random.random(6)"
   ]
  },
  {
   "cell_type": "code",
   "execution_count": 40,
   "id": "75107e7c",
   "metadata": {},
   "outputs": [
    {
     "data": {
      "text/plain": [
       "array([[0.54500462, 0.65988818, 0.56504878],\n",
       "       [0.1026917 , 0.7093506 , 0.37603989],\n",
       "       [0.90039384, 0.06534345, 0.31766297]])"
      ]
     },
     "execution_count": 40,
     "metadata": {},
     "output_type": "execute_result"
    }
   ],
   "source": [
    "np.random.random((3,3))"
   ]
  },
  {
   "cell_type": "markdown",
   "id": "d22ea808",
   "metadata": {},
   "source": [
    "* randint\n",
    "* To get random values in integers"
   ]
  },
  {
   "cell_type": "code",
   "execution_count": 41,
   "id": "d30b69e5",
   "metadata": {},
   "outputs": [
    {
     "data": {
      "text/plain": [
       "array([[38, 36, 36, 37],\n",
       "       [42, 41, 44, 42]])"
      ]
     },
     "execution_count": 41,
     "metadata": {},
     "output_type": "execute_result"
    }
   ],
   "source": [
    "np.random.randint(35,45,(2,4))"
   ]
  },
  {
   "cell_type": "markdown",
   "id": "2adcff3b",
   "metadata": {},
   "source": [
    "* choice"
   ]
  },
  {
   "cell_type": "code",
   "execution_count": 45,
   "id": "3be9e96b",
   "metadata": {},
   "outputs": [
    {
     "name": "stdout",
     "output_type": "stream",
     "text": [
      "linspace array : [1.         1.55555556 2.11111111 2.66666667 3.22222222 3.77777778\n",
      " 4.33333333 4.88888889 5.44444444 6.        ]\n",
      "random no array :  [[6.         3.77777778 4.88888889 2.66666667]\n",
      " [2.11111111 1.         6.         4.33333333]\n",
      " [6.         3.77777778 4.88888889 4.88888889]\n",
      " [4.33333333 2.66666667 6.         4.88888889]]\n"
     ]
    }
   ],
   "source": [
    "a = np.linspace(1,6,10)\n",
    "print(\"linspace array :\", a)\n",
    "\n",
    "arr = np.random.choice(a,(4,4))\n",
    "print(\"random no array : \", arr)"
   ]
  },
  {
   "cell_type": "markdown",
   "id": "fd0a6f8b",
   "metadata": {},
   "source": [
    "* permutation\n",
    "* The permutation() method returns a re-arranged array "
   ]
  },
  {
   "cell_type": "code",
   "execution_count": 46,
   "id": "c1d25349",
   "metadata": {},
   "outputs": [
    {
     "data": {
      "text/plain": [
       "array([3.77777778, 2.66666667, 1.55555556, 4.88888889, 6.        ,\n",
       "       2.11111111, 4.33333333, 1.        , 5.44444444, 3.22222222])"
      ]
     },
     "execution_count": 46,
     "metadata": {},
     "output_type": "execute_result"
    }
   ],
   "source": [
    "np.random.permutation(a)"
   ]
  },
  {
   "cell_type": "markdown",
   "id": "73de0abf",
   "metadata": {},
   "source": [
    "* uniform\n",
    "* Random values from uniform distribution"
   ]
  },
  {
   "cell_type": "code",
   "execution_count": 47,
   "id": "4390b247",
   "metadata": {},
   "outputs": [
    {
     "data": {
      "text/plain": [
       "array([1.91625443, 9.22177349, 4.43866795, 5.56451295, 1.8467421 ,\n",
       "       6.61538725, 5.21633893, 7.73196677, 7.6971368 , 2.18699229,\n",
       "       6.56569194, 7.75816672, 1.23723918, 1.80978512, 4.08334513])"
      ]
     },
     "execution_count": 47,
     "metadata": {},
     "output_type": "execute_result"
    }
   ],
   "source": [
    "a = np.random.uniform(1,10,15)\n",
    "a"
   ]
  },
  {
   "cell_type": "markdown",
   "id": "13ced0fe",
   "metadata": {},
   "source": [
    "* Matplotlib"
   ]
  },
  {
   "cell_type": "code",
   "execution_count": 48,
   "id": "2767163b",
   "metadata": {},
   "outputs": [],
   "source": [
    "import matplotlib.pyplot as plt"
   ]
  },
  {
   "cell_type": "code",
   "execution_count": 49,
   "id": "ec18fb53",
   "metadata": {},
   "outputs": [
    {
     "data": {
      "text/plain": [
       "(array([1., 4., 0., 0., 0., 1., 1., 1., 1., 0., 2., 0., 3., 0., 1.]),\n",
       " array([1.23723918, 1.76954146, 2.30184375, 2.83414604, 3.36644833,\n",
       "        3.89875061, 4.4310529 , 4.96335519, 5.49565748, 6.02795976,\n",
       "        6.56026205, 7.09256434, 7.62486663, 8.15716891, 8.6894712 ,\n",
       "        9.22177349]),\n",
       " <BarContainer object of 15 artists>)"
      ]
     },
     "execution_count": 49,
     "metadata": {},
     "output_type": "execute_result"
    },
    {
     "data": {
      "image/png": "[encoded data removed]",
      "text/plain": [
       "<Figure size 432x288 with 1 Axes>"
      ]
     },
     "metadata": {
      "needs_background": "light"
     },
     "output_type": "display_data"
    }
   ],
   "source": [
    "#  To plot the histogram\n",
    "plt.hist(a, bins = 15)"
   ]
  },
  {
   "cell_type": "code",
   "execution_count": 50,
   "id": "d460b6ab",
   "metadata": {},
   "outputs": [],
   "source": [
    "b= np.random.normal(20,5,100)"
   ]
  },
  {
   "cell_type": "code",
   "execution_count": 51,
   "id": "2029c1b5",
   "metadata": {},
   "outputs": [
    {
     "data": {
      "text/plain": [
       "(array([ 3.,  7.,  5.,  6.,  6.,  9., 12., 16.,  7., 13.,  4.,  3.,  4.,\n",
       "         3.,  2.]),\n",
       " array([ 9.99534877, 11.4817284 , 12.96810803, 14.45448767, 15.9408673 ,\n",
       "        17.42724694, 18.91362657, 20.40000621, 21.88638584, 23.37276548,\n",
       "        24.85914511, 26.34552475, 27.83190438, 29.31828401, 30.80466365,\n",
       "        32.29104328]),\n",
       " <BarContainer object of 15 artists>)"
      ]
     },
     "execution_count": 51,
     "metadata": {},
     "output_type": "execute_result"
    },
    {
     "data": {
      "image/png": "[encoded data removed]",
      "text/plain": [
       "<Figure size 432x288 with 1 Axes>"
      ]
     },
     "metadata": {
      "needs_background": "light"
     },
     "output_type": "display_data"
    }
   ],
   "source": [
    "plt.hist(b, bins=15)"
   ]
  },
  {
   "cell_type": "markdown",
   "id": "d6b57320",
   "metadata": {},
   "source": [
    "* string function"
   ]
  },
  {
   "cell_type": "code",
   "execution_count": 55,
   "id": "1456a379",
   "metadata": {},
   "outputs": [
    {
     "name": "stdout",
     "output_type": "stream",
     "text": [
      "first array :  ['python']\n",
      "second array :  [' Data science']\n",
      "concatenate array :  ['python Data science']\n",
      "concatenate lower array :  ['python']\n",
      "concatenate upper array :  [' DATA SCIENCE']\n",
      "concatenate center array :  ['*****python****']\n"
     ]
    }
   ],
   "source": [
    "s = [\"python\"]\n",
    "print(\"first array : \", s)\n",
    "\n",
    "s1 = [\" Data science\"]\n",
    "print(\"second array : \", s1)\n",
    "\n",
    "# Add a character from two array\n",
    "a = np.char.add(s,s1) \n",
    "print(\"concatenate array : \", a)\n",
    "\n",
    "# To get values in lower case\n",
    "a1 = np.char.lower(s)\n",
    "print(\"concatenate lower array : \", a1)\n",
    "\n",
    "# To get values in upper case\n",
    "a2 = np.char.upper(s1)\n",
    "print(\"concatenate upper array : \", a2)\n",
    "\n",
    "# To get values in center case\n",
    "a3 = np.char.center(s,15,\"*\")\n",
    "print(\"concatenate center array : \", a3)"
   ]
  },
  {
   "cell_type": "code",
   "execution_count": null,
   "id": "50a88839",
   "metadata": {},
   "outputs": [],
   "source": []
  }
 ],
 "metadata": {
  "kernelspec": {
   "display_name": "Python 3 (ipykernel)",
   "language": "python",
   "name": "python3"
  },
  "language_info": {
   "codemirror_mode": {
    "name": "ipython",
    "version": 3
   },
   "file_extension": ".py",
   "mimetype": "text/x-python",
   "name": "python",
   "nbconvert_exporter": "python",
   "pygments_lexer": "ipython3",
   "version": "3.11.0"
  },
  "vscode": {
   "interpreter": {
    "hash": "a9ffe38d8538a2d5002b24d7d961dd368d002a60f173c52f72f0bcd638bf064a"
   }
  }
 },
 "nbformat": 4,
 "nbformat_minor": 5
}
